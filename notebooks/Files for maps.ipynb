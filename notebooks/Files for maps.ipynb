{
 "cells": [
  {
   "cell_type": "code",
   "execution_count": null,
   "metadata": {
    "collapsed": true
   },
   "outputs": [],
   "source": [
    "import pandas as pd\n",
    "import numpy as np\n",
    "import math\n",
    "import warnings\n",
    "warnings.filterwarnings('ignore')"
   ]
  },
  {
   "cell_type": "markdown",
   "metadata": {},
   "source": [
    "# Create hexagon map of Switzerland"
   ]
  },
  {
   "cell_type": "markdown",
   "metadata": {},
   "source": [
    "## QGIS -  Geographic Information System"
   ]
  },
  {
   "cell_type": "markdown",
   "metadata": {},
   "source": [
    "**QGIS** is a great software to create and edit geospatial information. In order to create an hexagon map of Switzerland, we used the **MMQGIS** plugin which facilitates manipulating vector map layers. We proceded as follows:\n",
    "* *Obtain Swtizerland bounderies*: bounderies of all countries can be obtained from the shape file *50m_admin_0_countries.shp* from *Natural Earth* data. \n",
    "* *Create hexagon tiles*: MMQGIS plugin offers the possibility to create hexagonal *grid layers*. \n",
    "* *Combine layers*: we obtain the desired hexagons by doing an intersection between the country layer and the grid layer.\n",
    "* *Tile ID and coordinates*: we add to the table attributes of the grid layer and ID to each hexagonal tile and the coordinates of the center\n",
    "* *Export hexagonal tiles*: we can export with MMQGIS a CSV file containing the table attributes"
   ]
  },
  {
   "cell_type": "markdown",
   "metadata": {},
   "source": [
    "### Generate centers of hexagons"
   ]
  },
  {
   "cell_type": "markdown",
   "metadata": {},
   "source": [
    "Centers are converted into coordinates suitable for **WebGL**. They are centered and divided by 1000."
   ]
  },
  {
   "cell_type": "code",
   "execution_count": null,
   "metadata": {
    "collapsed": false
   },
   "outputs": [],
   "source": [
    "centers = pd.read_csv(\"../qgis/hexagons_centers.csv\", usecols = ['x','y','ID'])"
   ]
  },
  {
   "cell_type": "code",
   "execution_count": null,
   "metadata": {
    "collapsed": false
   },
   "outputs": [],
   "source": [
    "means = centers.mean()"
   ]
  },
  {
   "cell_type": "code",
   "execution_count": null,
   "metadata": {
    "collapsed": false
   },
   "outputs": [],
   "source": [
    "centers['x'] = (centers['x']-means['x'])/1000.0"
   ]
  },
  {
   "cell_type": "code",
   "execution_count": null,
   "metadata": {
    "collapsed": false
   },
   "outputs": [],
   "source": [
    "centers['y'] = (centers['y']-means['y'])/1000.0"
   ]
  },
  {
   "cell_type": "markdown",
   "metadata": {},
   "source": [
    "### Merge stations and hexagonal tiles"
   ]
  },
  {
   "cell_type": "markdown",
   "metadata": {},
   "source": [
    "The stops with their coordinates (obtained from *https://transport.opendata.ch*)are imported in QGIS as as CSV file. We perform an intersection between the stops and the grid layer including attributes of both tables to get the tile ID for each stop. We can then export a file *stops_with_tile_ids.csv*."
   ]
  },
  {
   "cell_type": "markdown",
   "metadata": {},
   "source": [
    "## Create the JSON file for the stops"
   ]
  },
  {
   "cell_type": "code",
   "execution_count": null,
   "metadata": {
    "collapsed": false
   },
   "outputs": [],
   "source": [
    "points = pd.read_csv(\"../qgis/stops_coordinates.csv\", usecols = ['x','y','stop_id'])\n",
    "stops_with_ids = pd.read_csv(\"../qgis/stops_with_tile_ids.csv\")\n",
    "points['x'] = (points['x'] - means['x'])/1000.0\n",
    "points['y'] = (points['y'] - means['y'])/1000.0"
   ]
  },
  {
   "cell_type": "code",
   "execution_count": null,
   "metadata": {
    "collapsed": false
   },
   "outputs": [],
   "source": [
    "points.head()"
   ]
  },
  {
   "cell_type": "code",
   "execution_count": null,
   "metadata": {
    "collapsed": false
   },
   "outputs": [],
   "source": [
    "temp = pd.merge(stops_with_ids, points, how='inner')"
   ]
  },
  {
   "cell_type": "code",
   "execution_count": null,
   "metadata": {
    "collapsed": false
   },
   "outputs": [],
   "source": [
    "temp.head()"
   ]
  },
  {
   "cell_type": "code",
   "execution_count": null,
   "metadata": {
    "collapsed": false
   },
   "outputs": [],
   "source": [
    "points = pd.merge(temp, centers[['ID', 'h']])"
   ]
  },
  {
   "cell_type": "code",
   "execution_count": null,
   "metadata": {
    "collapsed": false
   },
   "outputs": [],
   "source": [
    "points.head()"
   ]
  },
  {
   "cell_type": "code",
   "execution_count": null,
   "metadata": {
    "collapsed": false
   },
   "outputs": [],
   "source": [
    "points.to_json(\"../res/stops.json\", orient=\"records\")"
   ]
  },
  {
   "cell_type": "markdown",
   "metadata": {},
   "source": [
    "# Create JSON of Cities with geolocalisation and population"
   ]
  },
  {
   "cell_type": "markdown",
   "metadata": {},
   "source": [
    "We need a JSON file containing the different cities of Switzerland with their respective population and geographical coordinates in order to display the most important ones on the map. "
   ]
  },
  {
   "cell_type": "markdown",
   "metadata": {},
   "source": [
    "The population file comes from the *Federal Statistical Office* and can be downloaded here: *https://www.bfs.admin.ch/bfs/en/home/statistics/population/surveys/statpop.html*. We need to get the coordinates of each city so we use the *GeoNames* server."
   ]
  },
  {
   "cell_type": "code",
   "execution_count": null,
   "metadata": {
    "collapsed": false
   },
   "outputs": [],
   "source": [
    "cities = pd.read_csv(\"qgis/cities_population.csv\")"
   ]
  },
  {
   "cell_type": "code",
   "execution_count": null,
   "metadata": {
    "collapsed": false
   },
   "outputs": [],
   "source": [
    "cities.head()"
   ]
  },
  {
   "cell_type": "code",
   "execution_count": null,
   "metadata": {
    "collapsed": false
   },
   "outputs": [],
   "source": [
    "from geopy.geocoders import GeoNames\n",
    "geolocator = GeoNames(country_bias=\"Switzerland\",username=\"ada_dream_team\")\n",
    "\n",
    "for i in cities.index[2001:]:\n",
    "    newName = cities.ix[i,'Commune'][5:]\n",
    "    location = geolocator.geocode(newName)\n",
    "    if location:\n",
    "        cities.ix[i,'x'] = location.longitude\n",
    "        cities.ix[i,'y'] = location.latitude\n",
    "        cities.ix[i,'Commune'] = newName\n",
    "    else:\n",
    "        cities.ix[i,'x'] = np.nan\n",
    "        cities.ix[i,'y'] = np.nan"
   ]
  },
  {
   "cell_type": "code",
   "execution_count": null,
   "metadata": {
    "collapsed": true
   },
   "outputs": [],
   "source": [
    "cities_complete = cities.dropna()"
   ]
  },
  {
   "cell_type": "code",
   "execution_count": null,
   "metadata": {
    "collapsed": true
   },
   "outputs": [],
   "source": [
    "cities_complete.to_csv(\"map_js/cities_coordinates.csv\", index=False)"
   ]
  },
  {
   "cell_type": "markdown",
   "metadata": {},
   "source": [
    "### Inbetween we took the tile ID with QGIS, now we create the json "
   ]
  },
  {
   "cell_type": "code",
   "execution_count": null,
   "metadata": {
    "collapsed": false
   },
   "outputs": [],
   "source": [
    "c = pd.read_csv(\"map_js/cities_full.csv\")"
   ]
  },
  {
   "cell_type": "code",
   "execution_count": null,
   "metadata": {
    "collapsed": false
   },
   "outputs": [],
   "source": [
    "c.head()"
   ]
  },
  {
   "cell_type": "code",
   "execution_count": null,
   "metadata": {
    "collapsed": false
   },
   "outputs": [],
   "source": [
    "import json\n",
    "import unicodedata\n",
    "cities_json = {}\n",
    "for name, pop, tile_id, x , y in zip(c.Commune, c.Total, c.ID, c.x, c.y):\n",
    "    if isinstance(name, str):\n",
    "        n = str(unicodedata.normalize('NFD', name).encode('ascii', 'ignore'))[2:-1]\n",
    "        cities_json[n] = {\"population\": str(pop), \"ID\": str(tile_id), \"x\":str(x),\"y\":str(y)}"
   ]
  },
  {
   "cell_type": "code",
   "execution_count": null,
   "metadata": {
    "collapsed": false
   },
   "outputs": [],
   "source": [
    "cities_json"
   ]
  },
  {
   "cell_type": "code",
   "execution_count": null,
   "metadata": {
    "collapsed": false
   },
   "outputs": [],
   "source": [
    "json.dumps(cities_json)"
   ]
  },
  {
   "cell_type": "code",
   "execution_count": null,
   "metadata": {
    "collapsed": true
   },
   "outputs": [],
   "source": [
    "with open('map_js/cities.json', 'w') as outfile:\n",
    "    json.dump(cities_json, outfile)"
   ]
  },
  {
   "cell_type": "code",
   "execution_count": null,
   "metadata": {
    "collapsed": true
   },
   "outputs": [],
   "source": [
    "stops = pd.read_csv(\"../qgis/stops_with_tile_ids.csv\")"
   ]
  },
  {
   "cell_type": "code",
   "execution_count": null,
   "metadata": {
    "collapsed": false
   },
   "outputs": [],
   "source": [
    "stops.head()"
   ]
  },
  {
   "cell_type": "markdown",
   "metadata": {},
   "source": [
    "## Population tile-heights"
   ]
  },
  {
   "cell_type": "code",
   "execution_count": null,
   "metadata": {
    "collapsed": true
   },
   "outputs": [],
   "source": [
    "from sklearn import preprocessing"
   ]
  },
  {
   "cell_type": "code",
   "execution_count": null,
   "metadata": {
    "collapsed": false
   },
   "outputs": [],
   "source": [
    "stops_n_pop = pd.read_csv('../qgis/cities_full.csv')\n",
    "grouped_pop = stops_n_pop.groupby('ID').agg({'Total': sum})"
   ]
  },
  {
   "cell_type": "code",
   "execution_count": null,
   "metadata": {
    "collapsed": true
   },
   "outputs": [],
   "source": [
    "def counter(df):\n",
    "    if df['ID'] in grouped_pop.index:\n",
    "        return grouped_pop.loc[int(df['ID'])]['Total']\n",
    "    else:\n",
    "        return 0.0"
   ]
  },
  {
   "cell_type": "code",
   "execution_count": null,
   "metadata": {
    "collapsed": true
   },
   "outputs": [],
   "source": [
    "centers['h'] = (centers.apply(counter, axis=1))"
   ]
  },
  {
   "cell_type": "code",
   "execution_count": null,
   "metadata": {
    "collapsed": false
   },
   "outputs": [],
   "source": [
    "x = centers['h'].values #returns a numpy array \n",
    "min_max_scaler = preprocessing.MinMaxScaler(feature_range=(1,50))\n",
    "\n",
    "# Root-scaling\n",
    "root = lambda x: math.pow(x, 0.6)\n",
    "x_rooted = centers.h.apply(root)\n",
    "x_rooted = min_max_scaler.fit_transform(x_rooted)\n",
    "centers['h'] = x_rooted"
   ]
  },
  {
   "cell_type": "markdown",
   "metadata": {},
   "source": [
    "* x, y and ID are already in \"qgis/hexagons_centers.csv\". Need to add height h (affluence) and export JSON as \"centers.json\"\n",
    "* need to do the same for the heights of stops: \"qgis/stops_with_tile_ids.csv\", add corresponding height of the tile"
   ]
  },
  {
   "cell_type": "code",
   "execution_count": null,
   "metadata": {
    "collapsed": false
   },
   "outputs": [],
   "source": [
    "centers.to_csv(\"../res/centers.csv\", index=False)"
   ]
  },
  {
   "cell_type": "code",
   "execution_count": null,
   "metadata": {
    "collapsed": false
   },
   "outputs": [],
   "source": [
    "centers.to_json(\"../res/centers.json\",orient=\"records\")"
   ]
  },
  {
   "cell_type": "code",
   "execution_count": null,
   "metadata": {
    "collapsed": true
   },
   "outputs": [],
   "source": []
  }
 ],
 "metadata": {
  "anaconda-cloud": {},
  "kernelspec": {
   "display_name": "Python [Root]",
   "language": "python",
   "name": "Python [Root]"
  },
  "language_info": {
   "codemirror_mode": {
    "name": "ipython",
    "version": 3
   },
   "file_extension": ".py",
   "mimetype": "text/x-python",
   "name": "python",
   "nbconvert_exporter": "python",
   "pygments_lexer": "ipython3",
   "version": "3.5.2"
  }
 },
 "nbformat": 4,
 "nbformat_minor": 1
}
