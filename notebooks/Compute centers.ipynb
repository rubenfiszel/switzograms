{
 "cells": [
  {
   "cell_type": "code",
   "execution_count": 1,
   "metadata": {
    "collapsed": false
   },
   "outputs": [],
   "source": [
    "import networkx as nx\n",
    "import pandas as pd\n",
    "import warnings\n",
    "warnings.filterwarnings('ignore')\n",
    "import sys\n",
    "import math\n",
    "import pickle"
   ]
  },
  {
   "cell_type": "code",
   "execution_count": 5,
   "metadata": {
    "collapsed": false
   },
   "outputs": [
    {
     "name": "stdout",
     "output_type": "stream",
     "text": [
      "(24499, 1)\n"
     ]
    },
    {
     "data": {
      "text/html": [
       "<div>\n",
       "<table border=\"1\" class=\"dataframe\">\n",
       "  <thead>\n",
       "    <tr style=\"text-align: right;\">\n",
       "      <th></th>\n",
       "      <th>ID</th>\n",
       "    </tr>\n",
       "    <tr>\n",
       "      <th>stop_id</th>\n",
       "      <th></th>\n",
       "    </tr>\n",
       "  </thead>\n",
       "  <tbody>\n",
       "    <tr>\n",
       "      <th>132</th>\n",
       "      <td>553</td>\n",
       "    </tr>\n",
       "    <tr>\n",
       "      <th>133</th>\n",
       "      <td>949</td>\n",
       "    </tr>\n",
       "    <tr>\n",
       "      <th>134</th>\n",
       "      <td>892</td>\n",
       "    </tr>\n",
       "    <tr>\n",
       "      <th>135</th>\n",
       "      <td>603</td>\n",
       "    </tr>\n",
       "    <tr>\n",
       "      <th>136</th>\n",
       "      <td>572</td>\n",
       "    </tr>\n",
       "  </tbody>\n",
       "</table>\n",
       "</div>"
      ],
      "text/plain": [
       "          ID\n",
       "stop_id     \n",
       "132      553\n",
       "133      949\n",
       "134      892\n",
       "135      603\n",
       "136      572"
      ]
     },
     "execution_count": 5,
     "metadata": {},
     "output_type": "execute_result"
    }
   ],
   "source": [
    "stops_with_ids = pd.read_csv(\"../qgis/stops_with_tile_ids.csv\", usecols = ['ID','stop_id'])\n",
    "stops_with_ids = stops_with_ids.set_index('stop_id')\n",
    "print(stops_with_ids.shape)\n",
    "stops_with_ids.head()"
   ]
  },
  {
   "cell_type": "markdown",
   "metadata": {},
   "source": [
    "# Computing centers of hexagons"
   ]
  },
  {
   "cell_type": "markdown",
   "metadata": {},
   "source": [
    "## Graph \n",
    "For complete set of bus and train stops"
   ]
  },
  {
   "cell_type": "code",
   "execution_count": 7,
   "metadata": {
    "collapsed": false
   },
   "outputs": [],
   "source": [
    "G = nx.read_gpickle('../graph/complete.graph')"
   ]
  },
  {
   "cell_type": "code",
   "execution_count": 8,
   "metadata": {
    "collapsed": true
   },
   "outputs": [],
   "source": [
    "stops_with_ids['degree'] = 0"
   ]
  },
  {
   "cell_type": "markdown",
   "metadata": {},
   "source": [
    "For the hexagons where no affluence data is available from official **SBB/CFF** sources, we use the max node-degree in the cell as affluence."
   ]
  },
  {
   "cell_type": "markdown",
   "metadata": {},
   "source": [
    "### Strategy - choose node with min-average time in tile\n",
    "For each tile get node with minimum average time to other nodes. \n",
    "\n",
    "`for tile:\n",
    "    min_time = inf.\n",
    "    for nodes in tile:\n",
    "        matrix = distance(all_nodes)\n",
    "        min_time = min(avg_time(matrix), min_time)`"
   ]
  },
  {
   "cell_type": "code",
   "execution_count": 9,
   "metadata": {
    "collapsed": false
   },
   "outputs": [
    {
     "name": "stdout",
     "output_type": "stream",
     "text": [
      "Nodes missing in graph: 276/22056, when matched with `stops_with_ids`\n"
     ]
    }
   ],
   "source": [
    "nodes = G.nodes()\n",
    "\n",
    "errors = 0\n",
    "for n in nodes:\n",
    "    try:\n",
    "        stops_with_ids.loc[n].degree = G.degree(n) \n",
    "    except KeyError:\n",
    "        errors += 1\n",
    "        \n",
    "print(\"Nodes missing in graph: {}/{}, when matched with `stops_with_ids`\".format(errors, len(nodes)))"
   ]
  },
  {
   "cell_type": "markdown",
   "metadata": {},
   "source": [
    "Groupby the hexagon ID and aggregate by max affluence."
   ]
  },
  {
   "cell_type": "code",
   "execution_count": 10,
   "metadata": {
    "collapsed": false
   },
   "outputs": [
    {
     "data": {
      "text/html": [
       "<div>\n",
       "<table border=\"1\" class=\"dataframe\">\n",
       "  <thead>\n",
       "    <tr style=\"text-align: right;\">\n",
       "      <th></th>\n",
       "      <th>stop_id</th>\n",
       "      <th>degree</th>\n",
       "    </tr>\n",
       "    <tr>\n",
       "      <th>ID</th>\n",
       "      <th></th>\n",
       "      <th></th>\n",
       "    </tr>\n",
       "  </thead>\n",
       "  <tbody>\n",
       "    <tr>\n",
       "      <th>2</th>\n",
       "      <td>8595012</td>\n",
       "      <td>0</td>\n",
       "    </tr>\n",
       "    <tr>\n",
       "      <th>3</th>\n",
       "      <td>8595953</td>\n",
       "      <td>8</td>\n",
       "    </tr>\n",
       "    <tr>\n",
       "      <th>4</th>\n",
       "      <td>8595951</td>\n",
       "      <td>0</td>\n",
       "    </tr>\n",
       "    <tr>\n",
       "      <th>5</th>\n",
       "      <td>8595553</td>\n",
       "      <td>0</td>\n",
       "    </tr>\n",
       "    <tr>\n",
       "      <th>6</th>\n",
       "      <td>8595952</td>\n",
       "      <td>8</td>\n",
       "    </tr>\n",
       "  </tbody>\n",
       "</table>\n",
       "</div>"
      ],
      "text/plain": [
       "    stop_id  degree\n",
       "ID                 \n",
       "2   8595012       0\n",
       "3   8595953       8\n",
       "4   8595951       0\n",
       "5   8595553       0\n",
       "6   8595952       8"
      ]
     },
     "execution_count": 10,
     "metadata": {},
     "output_type": "execute_result"
    }
   ],
   "source": [
    "grouped_by_degree = stops_with_ids.reset_index().groupby('ID')['stop_id', 'degree'].agg({'degree': max})\n",
    "grouped_by_degree.columns = grouped_by_degree.columns.droplevel()\n",
    "# grouped_by_degree = grouped_by_degree[grouped_by_degree.degree != 0]\n",
    "grouped_by_degree.head()"
   ]
  },
  {
   "cell_type": "code",
   "execution_count": 11,
   "metadata": {
    "collapsed": false
   },
   "outputs": [
    {
     "data": {
      "text/plain": [
       "1230"
      ]
     },
     "execution_count": 11,
     "metadata": {},
     "output_type": "execute_result"
    }
   ],
   "source": [
    "grouped_by_degree[grouped_by_degree.degree != 0].shape[0]"
   ]
  },
  {
   "cell_type": "code",
   "execution_count": 12,
   "metadata": {
    "collapsed": false
   },
   "outputs": [
    {
     "data": {
      "text/html": [
       "<div>\n",
       "<table border=\"1\" class=\"dataframe\">\n",
       "  <thead>\n",
       "    <tr style=\"text-align: right;\">\n",
       "      <th></th>\n",
       "      <th>stop_id</th>\n",
       "      <th>degree</th>\n",
       "    </tr>\n",
       "    <tr>\n",
       "      <th>ID</th>\n",
       "      <th></th>\n",
       "      <th></th>\n",
       "    </tr>\n",
       "  </thead>\n",
       "  <tbody>\n",
       "    <tr>\n",
       "      <th>255</th>\n",
       "      <td>8530043</td>\n",
       "      <td>4</td>\n",
       "    </tr>\n",
       "  </tbody>\n",
       "</table>\n",
       "</div>"
      ],
      "text/plain": [
       "     stop_id  degree\n",
       "ID                  \n",
       "255  8530043       4"
      ]
     },
     "execution_count": 12,
     "metadata": {},
     "output_type": "execute_result"
    }
   ],
   "source": [
    "grouped_by_degree[grouped_by_degree.stop_id == 8530043]"
   ]
  },
  {
   "cell_type": "code",
   "execution_count": 13,
   "metadata": {
    "collapsed": false
   },
   "outputs": [
    {
     "name": "stdout",
     "output_type": "stream",
     "text": [
      "After grouping, missing affluence data for 29/1259 cells\n"
     ]
    }
   ],
   "source": [
    "missing = grouped_by_degree[grouped_by_degree.degree == 0].shape[0]\n",
    "total = grouped_by_degree.shape[0]\n",
    "print(\"After grouping, missing affluence data for {}/{} cells\".format(missing, total))"
   ]
  },
  {
   "cell_type": "markdown",
   "metadata": {},
   "source": [
    "## Affluence for available nodes"
   ]
  },
  {
   "cell_type": "code",
   "execution_count": 14,
   "metadata": {
    "collapsed": false
   },
   "outputs": [],
   "source": [
    "affluence = pd.read_csv(\"../gtfs/passagierfrequenz.csv\", sep=';')\n",
    "affluence['x'], affluence['y'] = affluence.geopos.str.split(',', 1).str\n",
    "affluence = affluence.drop(['Bahnhof_Haltestelle', 'DWV', 'Bemerkungen', 'lod', 'geopos', 'Eigner', 'Bezugsjahr'], axis=1)\n",
    "affluence.columns = ['Code', 'Affluence', 'x', 'y']\n",
    "affluence['stop_id'] = 0"
   ]
  },
  {
   "cell_type": "code",
   "execution_count": 15,
   "metadata": {
    "collapsed": false
   },
   "outputs": [
    {
     "data": {
      "text/html": [
       "<div>\n",
       "<table border=\"1\" class=\"dataframe\">\n",
       "  <thead>\n",
       "    <tr style=\"text-align: right;\">\n",
       "      <th></th>\n",
       "      <th>Code</th>\n",
       "      <th>Affluence</th>\n",
       "      <th>x</th>\n",
       "      <th>y</th>\n",
       "      <th>stop_id</th>\n",
       "    </tr>\n",
       "  </thead>\n",
       "  <tbody>\n",
       "    <tr>\n",
       "      <th>0</th>\n",
       "      <td>AAT</td>\n",
       "      <td>770</td>\n",
       "      <td>47.3359563788</td>\n",
       "      <td>8.76561022548</td>\n",
       "      <td>0</td>\n",
       "    </tr>\n",
       "    <tr>\n",
       "      <th>1</th>\n",
       "      <td>AE</td>\n",
       "      <td>2100</td>\n",
       "      <td>47.4677359724</td>\n",
       "      <td>7.60305476436</td>\n",
       "      <td>0</td>\n",
       "    </tr>\n",
       "    <tr>\n",
       "      <th>2</th>\n",
       "      <td>ALL</td>\n",
       "      <td>3000</td>\n",
       "      <td>46.4757395273</td>\n",
       "      <td>6.39970400408</td>\n",
       "      <td>0</td>\n",
       "    </tr>\n",
       "    <tr>\n",
       "      <th>3</th>\n",
       "      <td>AW</td>\n",
       "      <td>3000</td>\n",
       "      <td>47.5504471564</td>\n",
       "      <td>9.30221759023</td>\n",
       "      <td>0</td>\n",
       "    </tr>\n",
       "    <tr>\n",
       "      <th>4</th>\n",
       "      <td>ARN</td>\n",
       "      <td>210</td>\n",
       "      <td>47.4420020412</td>\n",
       "      <td>9.25200601938</td>\n",
       "      <td>0</td>\n",
       "    </tr>\n",
       "  </tbody>\n",
       "</table>\n",
       "</div>"
      ],
      "text/plain": [
       "  Code  Affluence              x               y  stop_id\n",
       "0  AAT        770  47.3359563788   8.76561022548        0\n",
       "1   AE       2100  47.4677359724   7.60305476436        0\n",
       "2  ALL       3000  46.4757395273   6.39970400408        0\n",
       "3   AW       3000  47.5504471564   9.30221759023        0\n",
       "4  ARN        210  47.4420020412   9.25200601938        0"
      ]
     },
     "execution_count": 15,
     "metadata": {},
     "output_type": "execute_result"
    }
   ],
   "source": [
    "affluence.head()"
   ]
  },
  {
   "cell_type": "code",
   "execution_count": 16,
   "metadata": {
    "collapsed": true
   },
   "outputs": [],
   "source": [
    "affluence.to_csv('../gtfs/affluence_code.csv')"
   ]
  },
  {
   "cell_type": "code",
   "execution_count": 17,
   "metadata": {
    "collapsed": true
   },
   "outputs": [],
   "source": [
    "affluence_with_ids = pd.read_csv(\"../qgis/affluence_with_tile_ids.csv\")"
   ]
  },
  {
   "cell_type": "code",
   "execution_count": 18,
   "metadata": {
    "collapsed": false
   },
   "outputs": [
    {
     "name": "stdout",
     "output_type": "stream",
     "text": [
      "Centers with affluence data: 371\n"
     ]
    }
   ],
   "source": [
    "joined_aff = affluence.join(affluence_with_ids, rsuffix='_r').drop(\n",
    "        ['x', 'y', 'Code_r', 'stop_id', 'Code'], axis=1)\n",
    "grouped_by_affluence = joined_aff.groupby('ID').agg(max).reset_index()\n",
    "\n",
    "print(\"Centers with affluence data: {}\".format(grouped_by_affluence.shape[0]))"
   ]
  },
  {
   "cell_type": "markdown",
   "metadata": {},
   "source": [
    "## Combine results\n",
    "Is there relation between degree of node and affluence?\n"
   ]
  },
  {
   "cell_type": "code",
   "execution_count": 19,
   "metadata": {
    "collapsed": false
   },
   "outputs": [
    {
     "data": {
      "text/html": [
       "<div>\n",
       "<table border=\"1\" class=\"dataframe\">\n",
       "  <thead>\n",
       "    <tr style=\"text-align: right;\">\n",
       "      <th></th>\n",
       "      <th>Code</th>\n",
       "      <th>Affluence</th>\n",
       "      <th>x</th>\n",
       "      <th>y</th>\n",
       "      <th>stop_id</th>\n",
       "      <th>ID</th>\n",
       "    </tr>\n",
       "  </thead>\n",
       "  <tbody>\n",
       "    <tr>\n",
       "      <th>0</th>\n",
       "      <td>AAT</td>\n",
       "      <td>770</td>\n",
       "      <td>47.3359563788</td>\n",
       "      <td>8.76561022548</td>\n",
       "      <td>0</td>\n",
       "      <td>1039.0</td>\n",
       "    </tr>\n",
       "    <tr>\n",
       "      <th>1</th>\n",
       "      <td>AE</td>\n",
       "      <td>2100</td>\n",
       "      <td>47.4677359724</td>\n",
       "      <td>7.60305476436</td>\n",
       "      <td>0</td>\n",
       "      <td>525.0</td>\n",
       "    </tr>\n",
       "    <tr>\n",
       "      <th>2</th>\n",
       "      <td>ALL</td>\n",
       "      <td>3000</td>\n",
       "      <td>46.4757395273</td>\n",
       "      <td>6.39970400408</td>\n",
       "      <td>0</td>\n",
       "      <td>50.0</td>\n",
       "    </tr>\n",
       "    <tr>\n",
       "      <th>3</th>\n",
       "      <td>AW</td>\n",
       "      <td>3000</td>\n",
       "      <td>47.5504471564</td>\n",
       "      <td>9.30221759023</td>\n",
       "      <td>0</td>\n",
       "      <td>1337.0</td>\n",
       "    </tr>\n",
       "    <tr>\n",
       "      <th>4</th>\n",
       "      <td>ARN</td>\n",
       "      <td>210</td>\n",
       "      <td>47.4420020412</td>\n",
       "      <td>9.25200601938</td>\n",
       "      <td>0</td>\n",
       "      <td>1309.0</td>\n",
       "    </tr>\n",
       "  </tbody>\n",
       "</table>\n",
       "</div>"
      ],
      "text/plain": [
       "  Code  Affluence              x               y  stop_id      ID\n",
       "0  AAT        770  47.3359563788   8.76561022548        0  1039.0\n",
       "1   AE       2100  47.4677359724   7.60305476436        0   525.0\n",
       "2  ALL       3000  46.4757395273   6.39970400408        0    50.0\n",
       "3   AW       3000  47.5504471564   9.30221759023        0  1337.0\n",
       "4  ARN        210  47.4420020412   9.25200601938        0  1309.0"
      ]
     },
     "execution_count": 19,
     "metadata": {},
     "output_type": "execute_result"
    }
   ],
   "source": [
    "affluence = affluence.join(affluence_with_ids, rsuffix='_r').drop(['Code_r'], axis=1)\n",
    "affluence.head()"
   ]
  },
  {
   "cell_type": "code",
   "execution_count": 21,
   "metadata": {
    "collapsed": false
   },
   "outputs": [],
   "source": [
    "stops = pd.read_csv('../gtfs/stops.txt').drop(['Unnamed: 0', 'platform_code'], axis=1)"
   ]
  },
  {
   "cell_type": "code",
   "execution_count": 22,
   "metadata": {
    "collapsed": false
   },
   "outputs": [
    {
     "data": {
      "text/html": [
       "<div>\n",
       "<table border=\"1\" class=\"dataframe\">\n",
       "  <thead>\n",
       "    <tr style=\"text-align: right;\">\n",
       "      <th></th>\n",
       "      <th>stop_id</th>\n",
       "      <th>stop_lon</th>\n",
       "      <th>stop_lat</th>\n",
       "    </tr>\n",
       "  </thead>\n",
       "  <tbody>\n",
       "    <tr>\n",
       "      <th>0</th>\n",
       "      <td>132</td>\n",
       "      <td>7.689360</td>\n",
       "      <td>47.196374</td>\n",
       "    </tr>\n",
       "    <tr>\n",
       "      <th>1</th>\n",
       "      <td>133</td>\n",
       "      <td>8.603653</td>\n",
       "      <td>46.154371</td>\n",
       "    </tr>\n",
       "    <tr>\n",
       "      <th>2</th>\n",
       "      <td>134</td>\n",
       "      <td>8.435913</td>\n",
       "      <td>46.538322</td>\n",
       "    </tr>\n",
       "    <tr>\n",
       "      <th>3</th>\n",
       "      <td>135</td>\n",
       "      <td>7.773846</td>\n",
       "      <td>46.356888</td>\n",
       "    </tr>\n",
       "    <tr>\n",
       "      <th>4</th>\n",
       "      <td>136</td>\n",
       "      <td>7.717215</td>\n",
       "      <td>46.433756</td>\n",
       "    </tr>\n",
       "  </tbody>\n",
       "</table>\n",
       "</div>"
      ],
      "text/plain": [
       "   stop_id  stop_lon   stop_lat\n",
       "0      132  7.689360  47.196374\n",
       "1      133  8.603653  46.154371\n",
       "2      134  8.435913  46.538322\n",
       "3      135  7.773846  46.356888\n",
       "4      136  7.717215  46.433756"
      ]
     },
     "execution_count": 22,
     "metadata": {},
     "output_type": "execute_result"
    }
   ],
   "source": [
    "stops.head()"
   ]
  },
  {
   "cell_type": "markdown",
   "metadata": {},
   "source": [
    "### Get closest stop match by euclidean distance between coordinates -> heuristic \n",
    "Result stored in `gtfs/affluence_with_stopid.csv`\n",
    "\n",
    "**WARNING**: takes some time to compute"
   ]
  },
  {
   "cell_type": "code",
   "execution_count": null,
   "metadata": {
    "collapsed": false
   },
   "outputs": [],
   "source": [
    "MAX_SIZE = sys.maxsize\n",
    "for i in range(affluence.shape[0]):\n",
    "    min_ = MAX_SIZE\n",
    "    min_id = None\n",
    "    x1 = float(affluence.loc[i].x)\n",
    "    y1 = float(affluence.loc[i].y)\n",
    "    for j in range(stops.shape[0]):\n",
    "        x2 = float(stops.loc[j].stop_lat)\n",
    "        y2 = float(stops.loc[j].stop_lon)\n",
    "        dist = math.sqrt(pow(abs(x1-x2),2) + pow(abs(y1 - y2),2))\n",
    "        if dist < min_:\n",
    "            min_ = dist\n",
    "            min_id = stops.loc[j].stop_id\n",
    "    affluence.set_value(i, 'stop_id', min_id)\n",
    "    if (i%25 == 0):\n",
    "        print(\"{}/{}\".format(i, affluence.shape[0]))\n",
    "        \n",
    "affluence.to_csv('gtfs/affluence_with_stopid.csv')    "
   ]
  },
  {
   "cell_type": "code",
   "execution_count": 23,
   "metadata": {
    "collapsed": false
   },
   "outputs": [
    {
     "data": {
      "text/html": [
       "<div>\n",
       "<table border=\"1\" class=\"dataframe\">\n",
       "  <thead>\n",
       "    <tr style=\"text-align: right;\">\n",
       "      <th></th>\n",
       "      <th>Code</th>\n",
       "      <th>Affluence</th>\n",
       "      <th>x</th>\n",
       "      <th>y</th>\n",
       "      <th>stop_id</th>\n",
       "      <th>ID</th>\n",
       "    </tr>\n",
       "  </thead>\n",
       "  <tbody>\n",
       "    <tr>\n",
       "      <th>0</th>\n",
       "      <td>AAT</td>\n",
       "      <td>770</td>\n",
       "      <td>47.335956</td>\n",
       "      <td>8.765610</td>\n",
       "      <td>8503124</td>\n",
       "      <td>1039.0</td>\n",
       "    </tr>\n",
       "    <tr>\n",
       "      <th>1</th>\n",
       "      <td>AE</td>\n",
       "      <td>2100</td>\n",
       "      <td>47.467736</td>\n",
       "      <td>7.603055</td>\n",
       "      <td>8500117</td>\n",
       "      <td>525.0</td>\n",
       "    </tr>\n",
       "    <tr>\n",
       "      <th>2</th>\n",
       "      <td>ALL</td>\n",
       "      <td>3000</td>\n",
       "      <td>46.475740</td>\n",
       "      <td>6.399704</td>\n",
       "      <td>8501035</td>\n",
       "      <td>50.0</td>\n",
       "    </tr>\n",
       "    <tr>\n",
       "      <th>3</th>\n",
       "      <td>AW</td>\n",
       "      <td>3000</td>\n",
       "      <td>47.550447</td>\n",
       "      <td>9.302218</td>\n",
       "      <td>8506109</td>\n",
       "      <td>1337.0</td>\n",
       "    </tr>\n",
       "    <tr>\n",
       "      <th>4</th>\n",
       "      <td>ARN</td>\n",
       "      <td>210</td>\n",
       "      <td>47.442002</td>\n",
       "      <td>9.252006</td>\n",
       "      <td>8506211</td>\n",
       "      <td>1309.0</td>\n",
       "    </tr>\n",
       "  </tbody>\n",
       "</table>\n",
       "</div>"
      ],
      "text/plain": [
       "  Code  Affluence          x         y  stop_id      ID\n",
       "0  AAT        770  47.335956  8.765610  8503124  1039.0\n",
       "1   AE       2100  47.467736  7.603055  8500117   525.0\n",
       "2  ALL       3000  46.475740  6.399704  8501035    50.0\n",
       "3   AW       3000  47.550447  9.302218  8506109  1337.0\n",
       "4  ARN        210  47.442002  9.252006  8506211  1309.0"
      ]
     },
     "execution_count": 23,
     "metadata": {},
     "output_type": "execute_result"
    }
   ],
   "source": [
    "affluence = pd.read_csv('../gtfs/affluence_with_stopid.csv')\n",
    "affluence.drop(['Unnamed: 0'], axis=1, inplace=True)\n",
    "affluence.head()"
   ]
  },
  {
   "cell_type": "markdown",
   "metadata": {},
   "source": [
    "Merge max affluence nodes for each cell with corresponding stop_id (gtfs format)."
   ]
  },
  {
   "cell_type": "code",
   "execution_count": 24,
   "metadata": {
    "collapsed": false
   },
   "outputs": [],
   "source": [
    "affluence_stop_ids = grouped_by_affluence.merge(affluence, left_on=['ID', 'Affluence'],\n",
    "                          right_on=['ID', 'Affluence'])[['ID', 'stop_id']]"
   ]
  },
  {
   "cell_type": "code",
   "execution_count": 25,
   "metadata": {
    "collapsed": false
   },
   "outputs": [
    {
     "data": {
      "text/html": [
       "<div>\n",
       "<table border=\"1\" class=\"dataframe\">\n",
       "  <thead>\n",
       "    <tr style=\"text-align: right;\">\n",
       "      <th></th>\n",
       "      <th>ID</th>\n",
       "      <th>stop_id</th>\n",
       "    </tr>\n",
       "  </thead>\n",
       "  <tbody>\n",
       "    <tr>\n",
       "      <th>0</th>\n",
       "      <td>3.0</td>\n",
       "      <td>8501001</td>\n",
       "    </tr>\n",
       "    <tr>\n",
       "      <th>1</th>\n",
       "      <td>6.0</td>\n",
       "      <td>8501003</td>\n",
       "    </tr>\n",
       "    <tr>\n",
       "      <th>2</th>\n",
       "      <td>11.0</td>\n",
       "      <td>8516155</td>\n",
       "    </tr>\n",
       "    <tr>\n",
       "      <th>3</th>\n",
       "      <td>12.0</td>\n",
       "      <td>8501008</td>\n",
       "    </tr>\n",
       "    <tr>\n",
       "      <th>4</th>\n",
       "      <td>22.0</td>\n",
       "      <td>8501022</td>\n",
       "    </tr>\n",
       "  </tbody>\n",
       "</table>\n",
       "</div>"
      ],
      "text/plain": [
       "     ID  stop_id\n",
       "0   3.0  8501001\n",
       "1   6.0  8501003\n",
       "2  11.0  8516155\n",
       "3  12.0  8501008\n",
       "4  22.0  8501022"
      ]
     },
     "execution_count": 25,
     "metadata": {},
     "output_type": "execute_result"
    }
   ],
   "source": [
    "affluence_stop_ids.head()"
   ]
  },
  {
   "cell_type": "markdown",
   "metadata": {},
   "source": [
    "Combine the results from affluence and degree to one collection"
   ]
  },
  {
   "cell_type": "code",
   "execution_count": 26,
   "metadata": {
    "collapsed": false
   },
   "outputs": [],
   "source": [
    "cell_centers = grouped_by_degree.drop(['degree'], axis=1)\n",
    "for i in range(affluence_stop_ids.shape[0]):\n",
    "    cell_id = affluence_stop_ids.loc[i].ID\n",
    "    stop_id = affluence_stop_ids.loc[i].stop_id\n",
    "    cell_centers.set_value(cell_id, 'stop_id', stop_id)\n",
    "    "
   ]
  },
  {
   "cell_type": "code",
   "execution_count": 27,
   "metadata": {
    "collapsed": false
   },
   "outputs": [
    {
     "data": {
      "text/html": [
       "<div>\n",
       "<table border=\"1\" class=\"dataframe\">\n",
       "  <thead>\n",
       "    <tr style=\"text-align: right;\">\n",
       "      <th></th>\n",
       "      <th>stop_id</th>\n",
       "    </tr>\n",
       "    <tr>\n",
       "      <th>ID</th>\n",
       "      <th></th>\n",
       "    </tr>\n",
       "  </thead>\n",
       "  <tbody>\n",
       "    <tr>\n",
       "      <th>2</th>\n",
       "      <td>8595012.0</td>\n",
       "    </tr>\n",
       "    <tr>\n",
       "      <th>3</th>\n",
       "      <td>8501001.0</td>\n",
       "    </tr>\n",
       "    <tr>\n",
       "      <th>4</th>\n",
       "      <td>8595951.0</td>\n",
       "    </tr>\n",
       "    <tr>\n",
       "      <th>5</th>\n",
       "      <td>8595553.0</td>\n",
       "    </tr>\n",
       "    <tr>\n",
       "      <th>6</th>\n",
       "      <td>8501003.0</td>\n",
       "    </tr>\n",
       "  </tbody>\n",
       "</table>\n",
       "</div>"
      ],
      "text/plain": [
       "      stop_id\n",
       "ID           \n",
       "2   8595012.0\n",
       "3   8501001.0\n",
       "4   8595951.0\n",
       "5   8595553.0\n",
       "6   8501003.0"
      ]
     },
     "execution_count": 27,
     "metadata": {},
     "output_type": "execute_result"
    }
   ],
   "source": [
    "cell_centers.head()"
   ]
  },
  {
   "cell_type": "markdown",
   "metadata": {},
   "source": [
    "Get list of all centers"
   ]
  },
  {
   "cell_type": "code",
   "execution_count": 28,
   "metadata": {
    "collapsed": false
   },
   "outputs": [],
   "source": [
    "lst_centers = list(map(lambda x: int(x), cell_centers.stop_id.sort(inplace=False)))"
   ]
  },
  {
   "cell_type": "code",
   "execution_count": 29,
   "metadata": {
    "collapsed": false,
    "scrolled": true
   },
   "outputs": [],
   "source": [
    "nodes = G.nodes()\n",
    "filt_centers = []\n",
    "for c in lst_centers:\n",
    "    if c in nodes:\n",
    "        filt_centers.append(c)\n",
    "    else: \n",
    "        pass"
   ]
  },
  {
   "cell_type": "code",
   "execution_count": 30,
   "metadata": {
    "collapsed": false
   },
   "outputs": [],
   "source": [
    "with open('../res/center_nodes', 'wb') as f:\n",
    "    pickle.dump(filt_centers, f)"
   ]
  },
  {
   "cell_type": "code",
   "execution_count": null,
   "metadata": {
    "collapsed": true
   },
   "outputs": [],
   "source": []
  }
 ],
 "metadata": {
  "kernelspec": {
   "display_name": "Python [Root]",
   "language": "python",
   "name": "Python [Root]"
  },
  "language_info": {
   "codemirror_mode": {
    "name": "ipython",
    "version": 3
   },
   "file_extension": ".py",
   "mimetype": "text/x-python",
   "name": "python",
   "nbconvert_exporter": "python",
   "pygments_lexer": "ipython3",
   "version": "3.5.2"
  }
 },
 "nbformat": 4,
 "nbformat_minor": 0
}
